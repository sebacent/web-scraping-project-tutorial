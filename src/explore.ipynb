{
    "cells": [
        {
            "cell_type": "markdown",
            "metadata": {},
            "source": [
                "# Explore here\n",
                "\n",
                "It's recommended to use this notebook for exploration purposes."
            ]
        },
        {
            "cell_type": "code",
            "execution_count": null,
            "metadata": {},
            "outputs": [],
            "source": [
                "import os\n",
                "from sqlalchemy import create_engine\n",
                "import pandas as pd\n",
                "from dotenv import load_dotenv\n",
                "\n",
                "# load the .env file variables\n",
                "load_dotenv()\n",
                "\n",
                "# 1) Connect to the database here using the SQLAlchemy's create_engine function\n",
                "\n",
                "# 2) Execute the SQL sentences to create your tables using the SQLAlchemy's execute function\n",
                "\n",
                "# 3) Execute the SQL sentences to insert your data using the SQLAlchemy's execute function\n",
                "\n",
                "# 4) Use pandas to print one of the tables as dataframes using read_sql function\n"
            ]
        },
        {
            "cell_type": "markdown",
            "metadata": {},
            "source": [
                "Imports"
            ]
        },
        {
            "cell_type": "code",
            "execution_count": 9,
            "metadata": {},
            "outputs": [],
            "source": [
                "from selenium import webdriver\n",
                "from bs4 import BeautifulSoup\n",
                "from html import parser\n",
                "from pprint import pprint"
            ]
        },
        {
            "cell_type": "markdown",
            "metadata": {},
            "source": [
                "Código"
            ]
        },
        {
            "cell_type": "code",
            "execution_count": 10,
            "metadata": {},
            "outputs": [],
            "source": [
                "\n",
                "resource_url = \"https://www.macrotrends.net/stocks/charts/TSLA/tesla/revenue\"\n",
                "options = webdriver.ChromeOptions()\n",
                "options.add_argument('--headless')  # Run browser in headless mode\n",
                "driver = webdriver.Chrome(options=options)\n",
                "driver.get(resource_url)\n",
                "content = driver.page_source\n",
                "soup = BeautifulSoup(content, \"html.parser\")\n"
            ]
        },
        {
            "cell_type": "code",
            "execution_count": 13,
            "metadata": {},
            "outputs": [
                {
                    "data": {
                        "text/plain": [
                            "'<html lang=\"en-US\" class=\"lang-es\" dir=\"ltr\"><head><title>Un momento…</title><meta http-equiv=\"Content-Type\" content=\"text/html; charset=UTF-8\"><meta http-equiv=\"X-UA-Compatible\" content=\"IE=Edge\"><meta name=\"robots\" content=\"noindex,nofollow\"><meta name=\"viewport\" content=\"width=device-width,initial-scale=1\"><style>*{box-sizing:border-box;margin:0;padding:0}html{line-height:1.15;-webkit-text-size-adjust:100%;color:#313131}button,html{font-family:system-ui,-apple-system,BlinkMacSystemFont,Segoe UI,Roboto,Helvetica Neue,Arial,Noto Sans,sans-serif,Apple Color Emoji,Segoe UI Emoji,Segoe UI Symbol,Noto Color Emoji}@media (prefers-color-scheme:dark){body{background-color:#222;color:#d9d9d9}body a{color:#fff}body a:hover{color:#ee730a;text-decoration:underline}body .lds-ring div{border-color:#999 transparent transparent}body .font-red{color:#b20f03}body .big-button,body .pow-button{background-color:#4693ff;color:#1d1d1d}body #challenge-success-text{background-image:url(data:image/svg+xml;base64,PHN2ZyB4bWxucz0iaHR0cDovL3d3dy53My5vcmcvMjAwMC9zdmciIHdpZHRoPSIzMiIgaGVpZ2h0PSIzMiIgZmlsbD0ibm9uZSIgdmlld0JveD0iMCAwIDI2IDI2Ij48cGF0aCBmaWxsPSIjZDlkOWQ5IiBkPSJNMTMgMGExMyAxMyAwIDEgMCAwIDI2IDEzIDEzIDAgMCAwIDAtMjZtMCAyNGExMSAxMSAwIDEgMSAwLTIyIDExIDExIDAgMCAxIDAgMjIiLz48cGF0aCBmaWxsPSIjZDlkOWQ5IiBkPSJtMTAuOTU1IDE2LjA1NS0zLjk1LTQuMTI1LTEuNDQ1IDEuMzg1IDUuMzcgNS42MSA5LjQ5NS05LjYtMS40Mi0xLjQwNXoiLz48L3N2Zz4=)}body #challenge-error-text{background-image:url(data:image/svg+xml;base64,PHN2ZyB4bWxucz0iaHR0cDovL3d3dy53My5vcmcvMjAwMC9zdmciIHdpZHRoPSIzMiIgaGVpZ2h0PSIzMiIgZmlsbD0ibm9uZSI+PHBhdGggZmlsbD0iI0IyMEYwMyIgZD0iTTE2IDNhMTMgMTMgMCAxIDAgMTMgMTNBMTMuMDE1IDEzLjAxNSAwIDAgMCAxNiAzbTAgMjRhMTEgMTEgMCAxIDEgMTEtMTEgMTEuMDEgMTEuMDEgMCAwIDEtMTEgMTEiLz48cGF0aCBmaWxsPSIjQjIwRjAzIiBkPSJNMTcuMDM4IDE4LjYxNUgxNC44N0wxNC41NjMgOS41aDIuNzgzem0tMS4wODQgMS40MjdxLjY2IDAgMS4wNTcuMzg4LjQwNy4zODkuNDA3Ljk5NCAwIC41OTYtLjQwNy45ODQtLjM5Ny4zOS0xLjA1Ny4zODktLjY1IDAtMS4wNTYtLjM4OS0uMzk4LS4zODktLjM5OC0uOTg0IDAtLjU5Ny4zOTgtLjk4NS40MDYtLjM5NyAxLjA1Ni0uMzk3Ii8+PC9zdmc+)}}body{display:flex;flex-direction:column;min-height:100vh}body.no-js .loading-spinner{visibility:hidden}body.no-js .challenge-running{display:none}body.dark{background-color:#222;color:#d9d9d9}body.dark a{color:#fff}body.dark a:hover{color:#ee730a;text-decoration:underline}body.dark .lds-ring div{border-color:#999 transparent transparent}body.dark .font-red{color:#b20f03}body.dark .big-button,body.dark .pow-button{background-color:#4693ff;color:#1d1d1d}body.dark #challenge-success-text{background-image:url(data:image/svg+xml;base64,PHN2ZyB4bWxucz0iaHR0cDovL3d3dy53My5vcmcvMjAwMC9zdmciIHdpZHRoPSIzMiIgaGVpZ2h0PSIzMiIgZmlsbD0ibm9uZSIgdmlld0JveD0iMCAwIDI2IDI2Ij48cGF0aCBmaWxsPSIjZDlkOWQ5IiBkPSJNMTMgMGExMyAxMyAwIDEgMCAwIDI2IDEzIDEzIDAgMCAwIDAtMjZtMCAyNGExMSAxMSAwIDEgMSAwLTIyIDExIDExIDAgMCAxIDAgMjIiLz48cGF0aCBmaWxsPSIjZDlkOWQ5IiBkPSJtMTAuOTU1IDE2LjA1NS0zLjk1LTQuMTI1LTEuNDQ1IDEuMzg1IDUuMzcgNS42MSA5LjQ5NS05LjYtMS40Mi0xLjQwNXoiLz48L3N2Zz4=)}body.dark #challenge-error-text{background-image:url(data:image/svg+xml;base64,PHN2ZyB4bWxucz0iaHR0cDovL3d3dy53My5vcmcvMjAwMC9zdmciIHdpZHRoPSIzMiIgaGVpZ2h0PSIzMiIgZmlsbD0ibm9uZSI+PHBhdGggZmlsbD0iI0IyMEYwMyIgZD0iTTE2IDNhMTMgMTMgMCAxIDAgMTMgMTNBMTMuMDE1IDEzLjAxNSAwIDAgMCAxNiAzbTAgMjRhMTEgMTEgMCAxIDEgMTEtMTEgMTEuMDEgMTEuMDEgMCAwIDEtMTEgMTEiLz48cGF0aCBmaWxsPSIjQjIwRjAzIiBkPSJNMTcuMDM4IDE4LjYxNUgxNC44N0wxNC41NjMgOS41aDIuNzgzem0tMS4wODQgMS40MjdxLjY2IDAgMS4wNTcuMzg4LjQwNy4zODkuNDA3Ljk5NCAwIC41OTYtLjQwNy45ODQtLjM5Ny4zOS0xLjA1Ny4zODktLjY1IDAtMS4wNTYtLjM4OS0uMzk4LS4zODktLjM5OC0uOTg0IDAtLjU5Ny4zOTgtLjk4NS40MDYtLjM5NyAxLjA1Ni0uMzk3Ii8+PC9zdmc+)}body.light{background-color:transparent;color:#313131}body.light a{color:#0051c3}body.light a:hover{color:#ee730a;text-decoration:underline}body.light .lds-ring div{border-color:#595959 transparent transparent}body.light .font-red{color:#fc574a}body.light .big-button,body.light .pow-button{background-color:#003681;border-color:#003681;color:#fff}body.light #challenge-success-text{background-image:url(data:image/svg+xml;base64,PHN2ZyB4bWxucz0iaHR0cDovL3d3dy53My5vcmcvMjAwMC9zdmciIHdpZHRoPSIzMiIgaGVpZ2h0PSIzMiIgZmlsbD0ibm9uZSIgdmlld0JveD0iMCAwIDI2IDI2Ij48cGF0aCBmaWxsPSIjMzEzMTMxIiBkPSJNMTMgMGExMyAxMyAwIDEgMCAwIDI2IDEzIDEzIDAgMCAwIDAtMjZtMCAyNGExMSAxMSAwIDEgMSAwLTIyIDExIDExIDAgMCAxIDAgMjIiLz48cGF0aCBmaWxsPSIjMzEzMTMxIiBkPSJtMTAuOTU1IDE2LjA1NS0zLjk1LTQuMTI1LTEuNDQ1IDEuMzg1IDUuMzcgNS42MSA5LjQ5NS05LjYtMS40Mi0xLjQwNXoiLz48L3N2Zz4=)}body.light #challenge-error-text{background-image:url(data:image/svg+xml;base64,PHN2ZyB4bWxucz0iaHR0cDovL3d3dy53My5vcmcvMjAwMC9zdmciIHdpZHRoPSIzMiIgaGVpZ2h0PSIzMiIgZmlsbD0ibm9uZSI+PHBhdGggZmlsbD0iI2ZjNTc0YSIgZD0iTTE2IDNhMTMgMTMgMCAxIDAgMTMgMTNBMTMuMDE1IDEzLjAxNSAwIDAgMCAxNiAzbTAgMjRhMTEgMTEgMCAxIDEgMTEtMTEgMTEuMDEgMTEuMDEgMCAwIDEtMTEgMTEiLz48cGF0aCBmaWxsPSIjZmM1NzRhIiBkPSJNMTcuMDM4IDE4LjYxNUgxNC44N0wxNC41NjMgOS41aDIuNzgzem0tMS4wODQgMS40MjdxLjY2IDAgMS4wNTcuMzg4LjQwNy4zODkuNDA3Ljk5NCAwIC41OTYtLjQwNy45ODQtLjM5Ny4zOS0xLjA1Ny4zODktLjY1IDAtMS4wNTYtLjM4OS0uMzk4LS4zODktLjM5OC0uOTg0IDAtLjU5Ny4zOTgtLjk4NS40MDYtLjM5NyAxLjA1Ni0uMzk3Ii8+PC9zdmc+)}a{background-color:transparent;color:#0051c3;text-decoration:none;transition:color .15s ease}a:hover{color:#ee730a;text-decoration:underline}.main-content{margin:8rem auto;max-width:60rem;width:100%}.heading-favicon{height:2rem;margin-right:.5rem;width:2rem}@media (width <= 720px){.main-content{margin-top:4rem}.heading-favicon{height:1.5rem;width:1.5rem}}.footer,.main-content{padding-left:1.5rem;padding-right:1.5rem}.main-wrapper{align-items:center;display:flex;flex:1;flex-direction:column}.font-red{color:#b20f03}.spacer{margin:2rem 0}.h1{font-size:2.5rem;font-weight:500;line-height:3.75rem}.h2{font-weight:500}.core-msg,.h2{font-size:1.5rem;line-height:2.25rem}.body-text,.core-msg{font-weight:400}.body-text{font-size:1rem;line-height:1.25rem}@media (width <= 720px){.h1{font-size:1.5rem;line-height:1.75rem}.h2{font-size:1.25rem}.core-msg,.h2{line-height:1.5rem}.core-msg{font-size:1rem}}#challenge-error-text{background-image:url(data:image/svg+xml;base64,PHN2ZyB4bWxucz0iaHR0cDovL3d3dy53My5vcmcvMjAwMC9zdmciIHdpZHRoPSIzMiIgaGVpZ2h0PSIzMiIgZmlsbD0ibm9uZSI+PHBhdGggZmlsbD0iI2ZjNTc0YSIgZD0iTTE2IDNhMTMgMTMgMCAxIDAgMTMgMTNBMTMuMDE1IDEzLjAxNSAwIDAgMCAxNiAzbTAgMjRhMTEgMTEgMCAxIDEgMTEtMTEgMTEuMDEgMTEuMDEgMCAwIDEtMTEgMTEiLz48cGF0aCBmaWxsPSIjZmM1NzRhIiBkPSJNMTcuMDM4IDE4LjYxNUgxNC44N0wxNC41NjMgOS41aDIuNzgzem0tMS4wODQgMS40MjdxLjY2IDAgMS4wNTcuMzg4LjQwNy4zODkuNDA3Ljk5NCAwIC41OTYtLjQwNy45ODQtLjM5Ny4zOS0xLjA1Ny4zODktLjY1IDAtMS4wNTYtLjM4OS0uMzk4LS4zODktLjM5OC0uOTg0IDAtLjU5Ny4zOTgtLjk4NS40MDYtLjM5NyAxLjA1Ni0uMzk3Ii8+PC9zdmc+);padding-left:34px}#challenge-error-text,#challenge-success-text{background-repeat:no-repeat;background-size:contain}#challenge-success-text{background-image:url(data:image/svg+xml;base64,PHN2ZyB4bWxucz0iaHR0cDovL3d3dy53My5vcmcvMjAwMC9zdmciIHdpZHRoPSIzMiIgaGVpZ2h0PSIzMiIgZmlsbD0ibm9uZSIgdmlld0JveD0iMCAwIDI2IDI2Ij48cGF0aCBmaWxsPSIjMzEzMTMxIiBkPSJNMTMgMGExMyAxMyAwIDEgMCAwIDI2IDEzIDEzIDAgMCAwIDAtMjZtMCAyNGExMSAxMSAwIDEgMSAwLTIyIDExIDExIDAgMCAxIDAgMjIiLz48cGF0aCBmaWxsPSIjMzEzMTMxIiBkPSJtMTAuOTU1IDE2LjA1NS0zLjk1LTQuMTI1LTEuNDQ1IDEuMzg1IDUuMzcgNS42MSA5LjQ5NS05LjYtMS40Mi0xLjQwNXoiLz48L3N2Zz4=);padding-left:42px}.text-center{text-align:center}.big-button{border:.063rem solid #0051c3;border-radius:.313rem;font-size:.875rem;line-height:1.313rem;padding:.375rem 1rem;transition-duration:.2s;transition-property:background-color,border-color,color;transition-timing-function:ease}.big-button:hover{cursor:pointer}.captcha-prompt:not(.hidden){display:flex}@media (width <= 720px){.captcha-prompt:not(.hidden){flex-wrap:wrap;justify-content:center}}.pow-button{background-color:#0051c3;color:#fff;margin:2rem 0}.pow-button:hover{background-color:#003681;border-color:#003681;color:#fff}.footer{font-size:.75rem;line-height:1.125rem;margin:0 auto;max-width:60rem;width:100%}.footer-inner{border-top:1px solid #d9d9d9;padding-bottom:1rem;padding-top:1rem}.clearfix:after{clear:both;content:\"\";display:table}.clearfix .column{float:left;padding-right:1.5rem;width:50%}.diagnostic-wrapper{margin-bottom:.5rem}.footer .ray-id{text-align:center}.footer .ray-id code{font-family:monaco,courier,monospace}.core-msg,.zone-name-title{overflow-wrap:break-word}@media (width <= 720px){.diagnostic-wrapper{display:flex;flex-wrap:wrap;justify-content:center}.clearfix:after{clear:none;content:none;display:initial;text-align:center}.column{padding-bottom:2rem}.clearfix .column{float:none;padding:0;width:auto;word-break:keep-all}.zone-name-title{margin-bottom:1rem}}.loading-spinner{height:76.391px}.lds-ring{display:inline-block;position:relative}.lds-ring,.lds-ring div{height:1.875rem;width:1.875rem}.lds-ring div{animation:lds-ring 1.2s cubic-bezier(.5,0,.5,1) infinite;border:.3rem solid transparent;border-radius:50%;border-top-color:#313131;box-sizing:border-box;display:block;position:absolute}.lds-ring div:first-child{animation-delay:-.45s}.lds-ring div:nth-child(2){animation-delay:-.3s}.lds-ring div:nth-child(3){animation-delay:-.15s}@keyframes lds-ring{0%{transform:rotate(0)}to{transform:rotate(1turn)}}@media screen and (-ms-high-contrast:active),screen and (-ms-high-contrast:none){.main-wrapper,body{display:block}}</style><meta http-equiv=\"refresh\" content=\"375\"><script src=\"/cdn-cgi/challenge-platform/h/b/orchestrate/chl_page/v1?ray=8582d8b3898a1e84\"></script><script src=\"https://challenges.cloudflare.com/turnstile/v0/b/0f752fefe334/api.js?onload=SdFnRC2&amp;render=explicit\" async=\"\" defer=\"\" crossorigin=\"anonymous\"></script></head><body class=\"no-js\"><div class=\"main-wrapper\" role=\"main\"><div class=\"main-content\"><h1 class=\"zone-name-title h1\">www.macrotrends.net</h1><h2 id=\"challenge-running\" class=\"h2\">Comprobando si la conexión del sitio es segura</h2><div id=\"challenge-stage\" style=\"display: flex;\"><div id=\"turnstile-wrapper\" class=\"captcha-prompt spacer\"><div><iframe src=\"https://challenges.cloudflare.com/cdn-cgi/challenge-platform/h/b/turnstile/if/ov2/av0/rcv0/0/h308r/0x4AAAAAAADnPIDROrmt1Wwj/light/normal\" allow=\"cross-origin-isolated; fullscreen\" sandbox=\"allow-same-origin allow-scripts allow-popups\" id=\"cf-chl-widget-h308r\" tabindex=\"0\" title=\"Widget que contiene un desafío de seguridad de Cloudflare\" style=\"border: none; overflow: hidden; width: 300px; height: 65px;\"></iframe><input type=\"hidden\" name=\"cf-turnstile-response\" id=\"cf-chl-widget-h308r_response\"></div></div></div><div id=\"challenge-spinner\" class=\"spacer loading-spinner\" style=\"display: none; visibility: hidden;\"><div class=\"lds-ring\"><div></div><div></div><div></div><div></div></div></div><div id=\"challenge-body-text\" class=\"core-msg spacer\">www.macrotrends.net debe revisar la seguridad de su conexión antes de continuar.</div><div id=\"challenge-success\" style=\"display: none;\"><div id=\"challenge-success-text\" class=\"h2\">La conexión es segura</div><div class=\"core-msg spacer\">En curso...</div></div><noscript><div id=\"challenge-error-title\"><div class=\"h2\"><span id=\"challenge-error-text\">Enable JavaScript and cookies to continue</span></div></div></noscript></div></div><script>(function(){window._cf_chl_opt={cvId: \\'3\\',cZone: \"www.macrotrends.net\",cType: \\'managed\\',cNounce: \\'84497\\',cRay: \\'8582d8b3898a1e84\\',cHash: \\'88c1a84e9d7889a\\',cUPMDTk: \"\\\\/stocks\\\\/charts\\\\/TSLA\\\\/tesla\\\\/revenue?__cf_chl_tk=Bd6tjEwL8OplOx.bSrUt6VC.uhFsYDwvHdkY.stPkDk-1708391181-0.0-4263\",cFPWv: \\'b\\',cTTimeMs: \\'1000\\',cMTimeMs: \\'375000\\',cTplV: 5,cTplB: \\'cf\\',cK: \"visitor-time\",fa: \"\\\\/stocks\\\\/charts\\\\/TSLA\\\\/tesla\\\\/revenue?__cf_chl_f_tk=Bd6tjEwL8OplOx.bSrUt6VC.uhFsYDwvHdkY.stPkDk-1708391181-0.0-4263\",md: \"dXWgnFOTeL5op_bS3fq4nXJuOR5FmepQHpB_tnaPT1M-1708391181-1.1-AcXOcYB9jgk0jAhI_jF0JLWRR4WZeKIXwIzy4CgHZX7jr9klo_my1QOyBLDkYb_zW3cHHWN-lmdEHQmryvM2IExOxMP7iyt6oOzIn0cJNzkYUwS3LYsrzxw7vxDrsbqjZyKX4TRsjvDSLKCDf8MWL1PSfTaofOSl9zyzihHBuBE58FKLbwdJFV6lQ0_-WgRInL8K_9D0DMyEr9amdvol5f3OXw59qMlnJNW5-cvF-EukkksA6OrpH5gqrCkM7xy_u6-FURio42oOWOHtwCFEk-3UJQ1r4el1GoR3TbHoCCOPcaScsLtXMhIDwhDBoOl03-k2cx_6m4JmA3sc6bTnimSvNBmeAqB7__k_L5TH6gdCFZX08ktaQPfqI2lVx99Pe8LOS8zH4Bjil3VIbuPvIlqvyLU99NHg728w4MwHBveA4CXHy6_lHzdw8X56bKxG0BJLb_Ocz_VBPK39ZlRB-wytGKlhytiapoM-ICgq7_rQC_R4sl-fzwvmyIMWf14O9xBmT0AnL7iMZojwWMh7r8hNrg6ho9yt1n3Y55oia50EYDE1Gb9VmUnvgH3B8aDBgz8JkE97reFPCd4XzTEUx4ahqwkYrK6TbdQrS1NiT2MHlQPmr0XZoz8ZlNGlcCl_ESiMS4-4W-uDE1HuOHkZw7Cvi-Y01zQCe1savlZi3OMTATgbsAFSioGDuubMu8Hdekg2pW3uIFzgn8w0gyNCKlQ-tRyiGjBJEkcz5HdyA1AihjIL_On6NK3_uuSV_iqe_W1ZSp363-IHNfFY1wrI1gOcTgJN63vaKin888YKSnzW2AL-SByFGaQq6YbJZuPgWTHkXVFyE3t-7TfSlIQX8peac-UoIBOJLmhqrkIagxGIZhUOgTZxXIzOM1npSUi0uQoBYGY66vvX2_dIfsiS9F8dXYgm0-ET2cD6DXwQYwGejGMA-AiFm0zc36tiYsBcmub-ulQWsGgBeybmOV65umyKA_wtbZZR7ZG1HWI6WAPgUtlRUGwzBLP5kPNwn4LTZIso2i8X5uao-gfR9nVLvviPB0x2b3atPOYwri9IGC2n7-0wrms0DoLcH6flQKB92EfGHExtiXl1v4zbBPx3zIN8ux9xRu1p8nXFQdOAos6WGvNtBq6t6IxhnKjoUGk93Hj6GmYgUi4lRRPagfCd5hjO6LvRhn88d3ddsOkrh0DciM07TG5LmUTDiCMF0e7-5OXhzzDho5SHcp45Hwqts0J5zuM_OCm8lJkm6X3fi8kcF6uIUP89q9lgrZ3SfBzUtZLQ7chTZouyNTMNkAN3KbhxiIb1sodpNzNbRwkEyM4v89E8_HGTgNafg5uSr7F4V4yweeDOIw0OhF3Ze9XVeQ8JEJDjTMIIWlIZVDHAbpIPGiXGj5pDl-MyHQup3RjBVZzLSuLKvoDLTQI6xfqqiWdiZsoM43B3mOq72TRVRz7qfcTxBbeO0z7-iQfzZLBgqar5CgWgrwaMdTRcH8fr8aXZYFthIczlopIXQv4hIlDYkppRCvB4M4W6bqMgTohd5XP4NBf-BLLJkHQRHlvLOE10IlDP3Ha2W95aeK7JzE5n71mgtMzuo8OscZNJbV40jvoRf7q-GFJNMls_PdHqubj3cfk5VCrSpbOWxcjTxaoKRW4M8xd-WOOb7u9OkqOU4qHed5iuAv6D_bATYC-L75MMmjHi3MKS-LTqnIDnmx5DS0lJDARfD8a1jecorJI_qHF-tTm4uIwXBw-6Plpmy46lYTkX-fiq_HFjsIs3PkH4RMPuIrALhUb8QLbQAQmFTUgmitGGm3hEDJXkKW6tWLRdUb1IRvC323pKLbA6pjyBIeX9OO_7pm8wmgmbRMCoSJJ8cFJBNzvv9GZVwOzD5p1uFCH9vqCo5SvYRvwRPg_IEeqI8egiNVUgh8-lBtHkglDTfvdgW3dYIash_TlSuMNJRyfCo--3bdS5d9t1MQ9sinLM5trXFhuWx58yp0l1v73R6gNAgoQlMJU0RDPG2ptUzbaDwUNNMYRVSSKVm59qw1Viah2rK-pQ4ikwIdx9QLD0gLx1TfkJv3B_AehsBlVdlGJX7GegBYXjFtTGmc8y-U5hgxNXMXxbszkadTaiLlbAKrv5TWSDT0i0z4X1Hl58ILzhzImrFAgeqgCoPPlULB16WleT-ngG4CN1YOWO0ICWWZ92077ctPThXcz2KbLwN4ELylC9Z0HB8xIImLz62acMMruNDLyQgSyLwUL4gmA3AFVoa8g_fbmGEamdjKVzwZBQSbNdGGasBbOkSLXunhZGWY8tISu2NVhoerKHP4HNvu1VSyDwzr2d7yOlrQP_dvXKPiWBbZGEsiBT8cj6sfIDdgRntiJv3mYLwFTG4z1hQ5FB0_hnaXy8M9bmomksUvwME-9_g1HO_mn4VFw7q251y51Gy90qErxvPPrvLUPw58oMvg-kjJa3du3cvkFo6845okG3eEDUOtIX81PwmEuF501AVJksnPSLkAAEfg_GHpfkqmWtHhCneOADODurC3t_8bNaCQwanSPJ05Z7Qle7kMdl6UfqDKWzlqvQrx-uylg-c-v-z4W3lSEFd7n9BeUDAPxbmPFvloBfb9fK9dNsp8cle53ITV6Sd5K1HqMy_TArWRQufbONLrPzM2cpsV7iwcSxL0jN6KS_rGJ9sAcqdOJTduMZKFAnAuBHocOIrbCsFTbdrhVMVimpGK1afgq1Tage08G6AKavUjvswohgLZE-piXPBDzn0jcJps7iCK-I1KvQMOp56ls6tTUhL_n1YOwkaDkQ7h2QxKpv-4DuUVzX3YbEwk7SI_7Z2AQYa8lnuPefR5RoOBe9Aa3aEUbigCu7nUNThOWKU1Mz_qLxsw4JyP2mPvMCGLo1ShykYBmP2lq0woFQmE9EvUV_AhKYv9vhBsjtJRNFjHTc0CKa9KR1Li-KQ5NjyfHsIiZcmFcP08Dp4XW0AhgL1JsSzyjBiapeumAHdK77BQTnK2NCem8yYHn8KVd88TT4dkQ85Uflatl_JWGRYeKlwoI1cL7byzPjlNcT2gkrZeHBb44L1mg_r0vkos65dE9QhU2iI2RMao5HK2khCt1SMVa1NtiEWYgtYTQQHPBsSBnO96B7oGYHCs8YHoFtFGd4ZngBDDPeReSXhOTuNPRDmmnuv2dGvrYudrCX5UAuRbd0zohw6mNK3kc8Ld_bC8-x7GM_u2H_cc39niyZY2lZI5sVsbyD_C1ImOzn0vouprNgu6_M1jUT-M6pCJI88cSla3nLl23DMn3mWgPKteCtXycB40kOrKFm2SW-LITTSjFvWvoGvfmbRsFs17v-rdvBLTnznVw1UXTmyAEBPzkFeBHdoYVlwMhEcm2XKhlGrMX9zHWZuU9JeKbuX7-rq4S2AcUFuP6-SB7-FHL5w8XG48jYfjzUHHXtWfk4njV1mivuO8YRldhtNFXX-VZ5WOZhP-JbQcUX_oUXQJflWQ8dBrRSpyHeJu_kATZeH2z2MVQ8nJZPfsxNUxb7-VRKltCCTRXm7rDTitOSmCpv7X37IsT9zwZTDoO8iSIssYs3cuZAWXZDp33-22UvkOontk48IGblQqKUvI5dz1lrjlbqg8YrtFScCyndRuqR0Y6k8mlC8lqO4tbtVdqDZ1o628JuHrJPN6KcSX7oDbWejdX7HXcSeg9t8MNkYt5LDX2qsnh7peyT3kCmSaq4X-j-dtlCOJBAQ4CrS2-ubE6A_gMAuShpoAi1efJUEKm2JaPAiWGGLLJ9M5nSO3a5CW0wyhxRARmFojt2JEXw6Cjd6KKr7-Lip67A6X08bsPIyBQMYsurg6VFFXtpApUEuZeP0xtULyes3gt9Mj4kcb2s9i7zQlpLUKjoLTfwk54zOMwe-VbO2ddFRup53t50c0EHBh4jO2BhPnJ1HS8PM9vQTJZTq7JbvS7Sp8ro3YU2_36yB067GypIIFZ9B5R9g_F05-G97QeXwKuFjl7Zgf6PqZu10I-mK6oY6LXnabswQtcc--FM3pahgXK-Yk-n3ggao1ciKxDNjCM_MLDlBVpWtr-vYgTI_qBiuqW1xQc97GcvAeGGz5X46D0S7peqSkwb81qEgxx3lQhD2cIbvRio2QO2nkw9jYKYr2zRmaxOhynTXyRMq3JCAxHJ_8yM08aLsIMvlupjNOZdznrdM4Dw3PA_5wfmCgsIjU0nMvUVT4Xg-G1z\",mdrd: \"Hs4Lte7NaXG..yIhX8V48tgvlldCsRZrmas4rRyiARs-1708391181-1.1-AZiHRfhCVqjZG333VLAwmlTdEOuCLn_M7zGi8OBFJ0lP0MOJVIBYdfGnzd4Vpeqlb7Xx-OCQQjL1EiEh9837p_53mTb5y8-uEOjSoD3YM4McmLzqf1CVtVuNj37Xsy34MyEVuolWKQ4fvxZOYVAJ6pFufaX5RChG_svRz6puayThcWDDkyOsR2QVTyfGpBA52DvCoflNo6XnLI5TEqWcw8MzynNWVw7D0YhPRWrgnecQVt4mKRI-fqA2nAThPEOVeENSBSzf0qVowgKJLvv7OPtFHcoxzKc4YRcGPHS78EJs9S7lkfddwoZ8jAiaKM0OE2YvP1EcawSUNLVF-RYjg8KV4cikSP7HBSpAYll65KO1S_KC_nTw50L49-VXq7lOgg5EvS6DWePCWHMMdKa3wwLTVMuFncnJn4lSOS7VqPFwBjjPukVl3b6LK1_Y3HCWmOqI-uwnOZVVHScSGVeFQbB1wpPP5-u-4fz2tG7FMmiXPLJdYP8DQRYW_r8mv5VPSgMYCuML4e8AblJMFyQkwxj6CP40R7dtszTBVS9gJuIL9-7XsP9W-Dhec06SGiE25ylOxZUZc9QIqF979AKIIzeI1dWIQhxsVrx2OObaVr8r7p_bepVh2UoML_G23SSjNCWt2ey1bsqqbhEcEF2zTSKuqXLk0rW8OJjsIoEPpZQPzuEn-310BL7P31x13Lw9LuSpGyb89lbRihppdWY-bzpJ1971hyAJo63svs6ywjrss9Hi5wEK41ingU1i9SzZGqtqVGusKZ6CeVqUwenKe_TZ45j-0MU9i7OnOIW8iKlRvg2V4H1GrNSIKjsjSSp_EGIy-itIb71E2ZuyqC00OogkIkb2M4yAJbvMd2TfsvJLfaloufbpBKtLw82spr84DrMupDHGkL08y9UIC3fo_wqsKq5154p-IscnueSke9mJb2JBFerOAEpYBD9aI_yRLPWzKYOuEpWkb15n5l5QBIjRIzBtHWK_MUA-ABNd9KrCS4OTccyAFtPZimHhX8OFaC6UigG-inh1QL9Xm9ks_MuAI2Vav7h9pMyz07Oj_x_upVa7HZ9uGUS9-cFhqK0alWSIHo6N3korWMOPlW3-lUdb5kSMn04q68sK4kTUBa1AuGo9cl9brTL3s-OTZHmekYfPVaeEO58MzFBuPVLvdt4S86nbPqzJOQO8L2cU_r37mig7YrB8RIHwsHegJl-a0rzNc0VjDkKK_5U4ROBPbyweyGmKrQJlrd_korPbsrB_bsj3iHCmTbeUvW0j2DC-Dp1GuFP7eGLEOvwSv1N8PCSWj6M3SooKEoijFHoCD7g3PwL-TMRzj92g6nGhAEop0pX74ENtp7F4x3eG2woHJilSPYI1dCywvSkzh3vM8ktta-k7NEOcXzL3xIVBu64IHjah0qwEoBews3-nQZDbp4JAP5HULcNfK-NHRUlYEanaAmMjCzSz9yMqxniKFBrrNb7dAh40ZicFyTvDojyE374uj5rGSSZjoVt1Vif7uAqJfVicvIN8lG0gdjgWMc1DVc_ielXkHt65LtN2FvZ45f4gdVqciCZ_5n_xvimR_AHYnP-G5vNJS3lSd2qZvg6y5GZ9wQOBX5f5CnSyqsbvHZE4x-v32PRkPbiDY-jXtoCL7pDhrjc9GyJxydQlWprHFVnDyDUfJBOXQTD5cC4Fsrqtog1VUVlaAirq60TexEnyEo9SxqEfcbFuKdND0gQYCxJKXXOuEyhPAIhYNk2GJJUQzqo2xvv0nymZ37hIi0OS79XKQELHZ2rQuHdABTnuKUeOKlMEbMmqO9FF0blpu9wPC5YZMhPseag-Zun8a9ldgcNsLMKPhzDCe6qnWcJdKL3uUUTeTa8UW24D_O0-T1KaqZR1JegmGODAA_gNk4tCzfnaxqlO-ko2Ekqt3bMVYJ7cyBLzB9X-6uA1HtrtIbRcclvjwOPBHP6KRZOvdMV7ddGzhP0t0vGFhKE9HICg5gbIxixP9BZn9VbJj2JsidAyvFwjsgfj4hGbzEm6-uGX1pLwXBaYo2LAdSZdWAiDXtQvLmPaegLTJtaSuq_drRsKZLVjjSptErRV1BvvWmGUfOSBeL9xbCI0zU2pkOLg7KSMcgsS5VXGXG-0fOPFSu6-RGdkdLovJwayFcoe3sNpenh_B7TXsl-PkZZe0DBcDKrax81SzEgIfoZMaKlsV5MdPsXUlw95ckbFK8molDj3zhi7BHR0pt76SHBVTvM7x7dgFxfV6DSQeU-WxUclXRfHaznvWCP6H-RxYu2oyMZZJO7zkHapZgwQ_5YiivTSyXKnZaHR0B1nGYrDZdgz6vA0YpnpK24Kb6y4uC6TliS-jucRsxhXe-N-nUQyklBiXLzsV6b7ptaFJIMmVRee10eGMyAHlfS02k3AUjQ25cwKYhU3d1NzGRRaYoIBcIxbxOUDP6FrjVRRACu8OUapl_HwlIwDJhFfv77cAi4iSVH6jwuPxb7fyRfcWT72iCP0WsSA8fWw14A7RlBKq77Qoq-_LSKllrsuO_jS-FL9GaYcCX4HNCdt9QDJ_KIroSMH84WEWtlejo3x1FgKEwLppeg\",cRq: {ru: \\'aHR0cHM6Ly93d3cubWFjcm90cmVuZHMubmV0L3N0b2Nrcy9jaGFydHMvVFNMQS90ZXNsYS9yZXZlbnVl\\',ra: \\'TW96aWxsYS81LjAgKFdpbmRvd3MgTlQgMTAuMDsgV2luNjQ7IHg2NCkgQXBwbGVXZWJLaXQvNTM3LjM2IChLSFRNTCwgbGlrZSBHZWNrbykgSGVhZGxlc3NDaHJvbWUvMTIxLjAuNjE2Ny4xODUgU2FmYXJpLzUzNy4zNg==\\',rm: \\'R0VU\\',d: \\'pCJ9V+xneBJYgkO3Ra8AYCuCIkmCml9Bp3PglY8jStBSiB5bYYpQxvMjGmt73+sPuRU7cwLgiAxIyUfvfNyFLyL8SI4S8a4g2jEGgJbT2yW8Mbk4niQ6lqJ7OrOfeM74K8K1vxjku4Dh1uutAlf+aivZJB5aLLZRUeE4qfYWNxPatGIvdBEavu3PD5LTRdeXg1NgRm5yHW7rIdeTehk29H0lGiVcTdbGgRvcgVCoSsJBmBO/V0wGW40m21n7CmQgOieG80uoBVZzGTKzGI6Q6POhQJiXE50+ThXG9GtqZi4zwSy2Ey1aXdVMBouA6rnOYvdlIdbYZ3krVuRJl5CdhtRphHb6WhjRkx7EBp5zT/69/Wbq7vbE8WJYbAV9AXm1wdaaimysmQhIRrG+jn0l9D/qZcs9boCpfj0rIHzr4YDIrSA8qa/ivt66jxX5BuXz1IEf0qvGinyouDRFiWmpdicWF/PynNYkhW/8Rvvvnwky5S/DJZWJOZEvIY2076gGVWKY+UAlM4nVGijthx6JLGkkLl46dYz77NCMx4MKyXLp7Jp8oP6Glr7nYYCk3oLSV91q70UhFJX93HNZFbtUQg5u6HM4IVchGtfe2rj3DGwu9/A+TETJ+mGhiKTUegfSwS2H0IiT3ApiQmgSRDw4uw==\\',t: \\'MTcwODM5MTE4MS4zNjkwMDA=\\',cT: Math.floor(Date.now() / 1000),m: \\'o97tew383nF+ZW6zrGdRQ8NePmN5Yy/pKB2ZoqeWjzk=\\',i1: \\'GCeCrPy00NPcnLCJNfxjUg==\\',i2: \\'irbFp6K5rUw1Zjg5ErSclA==\\',zh: \\'3x29lVO8nq/NXG2OdEhf89vgUQ0axXVy6sOUTSfQRV0=\\',uh: \\'GUZY/XMkXTLDBMBlMBRf9NhiVNts1dy1BTN2fH5RVTE=\\',hh: \\'vkZeRkFvijS7WQbLhOK2RF7YksIX97j9JIj48vxNOqc=\\',}};var cpo = document.createElement(\\'script\\');cpo.src = \\'/cdn-cgi/challenge-platform/h/b/orchestrate/chl_page/v1?ray=8582d8b3898a1e84\\';window._cf_chl_opt.cOgUHash = location.hash === \\'\\' && location.href.indexOf(\\'#\\') !== -1 ? \\'#\\' : location.hash;window._cf_chl_opt.cOgUQuery = location.search === \\'\\' && location.href.slice(0, location.href.length - window._cf_chl_opt.cOgUHash.length).indexOf(\\'?\\') !== -1 ? \\'?\\' : location.search;if (window.history && window.history.replaceState) {var ogU = location.pathname + window._cf_chl_opt.cOgUQuery + window._cf_chl_opt.cOgUHash;history.replaceState(null, null, \"\\\\/stocks\\\\/charts\\\\/TSLA\\\\/tesla\\\\/revenue?__cf_chl_rt_tk=Bd6tjEwL8OplOx.bSrUt6VC.uhFsYDwvHdkY.stPkDk-1708391181-0.0-4263\" + window._cf_chl_opt.cOgUHash);cpo.onload = function() {history.replaceState(null, null, ogU);}}document.getElementsByTagName(\\'head\\')[0].appendChild(cpo);}());</script><div class=\"footer\" role=\"contentinfo\"><div class=\"footer-inner\"><div class=\"clearfix diagnostic-wrapper\"><div class=\"ray-id\">Ray ID: <code>8582d8b3898a1e84</code></div></div><div class=\"text-center\" id=\"footer-text\">Rendimiento y seguridad de <a rel=\"noopener noreferrer\" href=\"https://www.cloudflare.com?utm_source=challenge&amp;utm_campaign=m\" target=\"_blank\">Cloudflare</a></div></div></div></body></html>'"
                        ]
                    },
                    "execution_count": 13,
                    "metadata": {},
                    "output_type": "execute_result"
                }
            ],
            "source": [
                "content"
            ]
        },
        {
            "cell_type": "code",
            "execution_count": 14,
            "metadata": {},
            "outputs": [],
            "source": [
                "driver.quit()"
            ]
        }
    ],
    "metadata": {
        "kernelspec": {
            "display_name": "Python 3.8.13 64-bit ('3.8.13')",
            "language": "python",
            "name": "python3"
        },
        "language_info": {
            "codemirror_mode": {
                "name": "ipython",
                "version": 3
            },
            "file_extension": ".py",
            "mimetype": "text/x-python",
            "name": "python",
            "nbconvert_exporter": "python",
            "pygments_lexer": "ipython3",
            "version": "3.11.8"
        },
        "orig_nbformat": 4,
        "vscode": {
            "interpreter": {
                "hash": "110cc1dee26208153f2972f08a2ad52b6a56238dc66d48e87fb757ef2996db56"
            }
        }
    },
    "nbformat": 4,
    "nbformat_minor": 2
}
